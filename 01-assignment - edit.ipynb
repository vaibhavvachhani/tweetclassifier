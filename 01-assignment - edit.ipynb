{
 "cells": [
  {
   "cell_type": "markdown",
   "metadata": {},
   "source": [
    "# General Info\n",
    "\n",
    "<b>Due date</b>: Sunday, 5 Apr 2020 5pm\n",
    "\n",
    "<b>Submission method</b>: Canvas submission\n",
    "\n",
    "<b>Submission materials</b>: completed copy of this iPython notebook\n",
    "\n",
    "<b>Late submissions</b>: -20% per day (both week and weekend days counted)\n",
    "\n",
    "<b>Marks</b>: 10% of mark for class (with 9% on correctness + 1% on quality and efficiency of your code)\n",
    "\n",
    "<b>Materials</b>: See [Using Jupyter Notebook and Python page](https://canvas.lms.unimelb.edu.au/courses/17601/pages/using-jupyter-notebook-and-python?module_item_id=1678430) on Canvas (under Modules>Resources) for information on the basic setup required for this class, including an iPython notebook viewer and the python packages NLTK, Numpy, Scipy, Matplotlib, Scikit-Learn, and Gensim. In particular, if you are not using a lab computer which already has it installed, we recommend installing all the data for NLTK, since you will need various parts of it to complete this assignment. You can also use any Python built-in packages, but do not use any other 3rd party packages (the packages listed above are all fine to use); if your iPython notebook doesn't run on the marker's machine, you will lose marks. <b> You should use Python 3</b>.  \n",
    "\n",
    "To familiarize yourself with NLTK, here is a free online book:  Steven Bird, Ewan Klein, and Edward Loper (2009). <a href=http://nltk.org/book>Natural Language Processing with Python</a>. O'Reilly Media Inc. You may also consult the <a href=https://www.nltk.org/api/nltk.html>NLTK API</a>.\n",
    "\n",
    "<b>Evaluation</b>: Your iPython notebook should run end-to-end without any errors in a reasonable amount of time, and you must follow all instructions provided below, including specific implementation requirements and instructions for what needs to be printed (please avoid printing output we don't ask for). You should edit the sections below where requested, but leave the rest of the code as is. You should leave the output from running your code in the iPython notebook you submit, to assist with marking. The amount each section is worth is given in parenthesis after the instructions. \n",
    "\n",
    "You will be marked not only on the correctness of your methods, but also the quality and efficency of your code: in particular, you should be careful to use Python built-in functions and operators when appropriate and pick descriptive variable names that adhere to <a href=\"https://www.python.org/dev/peps/pep-0008/\">Python style requirements</a>. If you think it might be unclear what you are doing, you should comment your code to help the marker make sense of it.\n",
    "\n",
    "<b>Updates</b>: Any major changes to the assignment will be announced via Canvas. Minor changes and clarifications will be announced on the discussion board; we recommend you check it regularly.\n",
    "\n",
    "<b>Academic misconduct</b>: For most people, collaboration will form a natural part of the undertaking of this homework, and we encourge you to discuss it in general terms with other students. However, this ultimately is still an individual task, and so reuse of code or other instances of clear influence will be considered cheating. We will be checking submissions for originality and will invoke the University’s <a href=\"http://academichonesty.unimelb.edu.au/policy.html\">Academic Misconduct policy</a> where inappropriate levels of collusion or plagiarism are deemed to have taken place."
   ]
  },
  {
   "cell_type": "markdown",
   "metadata": {},
   "source": [
    "# Overview\n",
    "\n",
    "In this homework, you'll be working with a collection tweets. The task is to classify whether a tweet constitutes a rumour event. This homework involves writing code to preprocess data and perform text classification."
   ]
  },
  {
   "cell_type": "markdown",
   "metadata": {},
   "source": [
    "# 1. Preprocessing (5 marks)"
   ]
  },
  {
   "cell_type": "markdown",
   "metadata": {},
   "source": [
    "**Instructions**: Run the code below to download the tweet corpus for the assignment. Note: the download may take some time. **No implementation is needed.**"
   ]
  },
  {
   "cell_type": "code",
   "execution_count": 1,
   "metadata": {},
   "outputs": [
    {
     "name": "stdout",
     "output_type": "stream",
     "text": [
      "Done. File downloaded: rumour-data.tgz\n"
     ]
    }
   ],
   "source": [
    "import requests\n",
    "import os\n",
    "from pathlib import Path\n",
    "\n",
    "fname = 'rumour-data.tgz'\n",
    "data_dir = os.path.splitext(fname)[0] #'rumour-data'\n",
    "\n",
    "my_file = Path(fname)\n",
    "if not my_file.is_file():\n",
    "    url = \"https://github.com/jhlau/jhlau.github.io/blob/master/files/rumour-data.tgz?raw=true\"\n",
    "    r = requests.get(url)\n",
    "\n",
    "    #Save to the current directory\n",
    "    with open(fname, 'wb') as f:\n",
    "        f.write(r.content)\n",
    "        \n",
    "print(\"Done. File downloaded:\", my_file)\n"
   ]
  },
  {
   "cell_type": "markdown",
   "metadata": {},
   "source": [
    "**Instructions**: Run the code to extract the zip file. Note: the extraction may take a minute or two. **No implementation is needed.**"
   ]
  },
  {
   "cell_type": "code",
   "execution_count": 2,
   "metadata": {},
   "outputs": [
    {
     "name": "stdout",
     "output_type": "stream",
     "text": [
      "Extraction done.\n"
     ]
    }
   ],
   "source": [
    "import tarfile\n",
    "\n",
    "#decompress rumour-data.tgz\n",
    "tar = tarfile.open(fname, \"r:gz\")\n",
    "tar.extractall()\n",
    "tar.close()\n",
    "\n",
    "#remove superfluous files (e.g. .DS_store)\n",
    "extra_files = []\n",
    "for r, d, f in os.walk(data_dir):\n",
    "    for file in f:\n",
    "        if (file.startswith(\".\")):\n",
    "            extra_files.append(os.path.join(r, file))\n",
    "for f in extra_files:\n",
    "    os.remove(f)\n",
    "\n",
    "print(\"Extraction done.\")"
   ]
  },
  {
   "cell_type": "markdown",
   "metadata": {},
   "source": [
    "### Question 1 (1.0 mark)\n",
    "\n",
    "**Instructions**: The corpus data is in the *rumour-data* folder. It contains 2 sub-folders: *non-rumours* and *rumours*. As the names suggest, *rumours* contains all rumour-propagating tweets, while *non-rumours* has normal tweets. Within  *rumours* and *non-rumours*, you'll find some sub-folders, each named with an ID. Each of these IDs constitutes an 'event', where an event is defined as consisting a **source tweet** and its **reactions**.\n",
    "\n",
    "An illustration of the folder structure is given below:\n",
    "\n",
    "    rumour-data\n",
    "        - rumours\n",
    "            - 498254340310966273\n",
    "                - reactions\n",
    "                    - 498254340310966273.json\n",
    "                    - 498260814487642112.json\n",
    "                - source-tweet\n",
    "                    - 498254340310966273.json\n",
    "        - non-rumours\n",
    "\n",
    "Now we need to gather the tweet messages for rumours and non-rumour events. As the individual tweets are stored in json format, we need to use a json parser to parse and collect the actual tweet message. The function `get_tweet_text_from_json(file_path)` is provided to do that.\n",
    "\n",
    "**Task**: Complete the `get_events(event_dir)` function. The function should return **a list of events** for a particular class of tweets (e.g. rumours), and each event should contain the source tweet message and all reaction tweet messages.\n",
    "\n",
    "**Check**: Use the assertion statements in *\"For your testing\"* below for the expected output."
   ]
  },
  {
   "cell_type": "code",
   "execution_count": 3,
   "metadata": {},
   "outputs": [
    {
     "name": "stdout",
     "output_type": "stream",
     "text": [
      "Number of rumour events = 500\n",
      "Number of non-rumour events = 1000\n"
     ]
    }
   ],
   "source": [
    "import json\n",
    "\n",
    "def get_tweet_text_from_json(file_path):\n",
    "    with open(file_path) as json_file:\n",
    "        data = json.load(json_file)\n",
    "        return data[\"text\"]\n",
    "    \n",
    "import os\n",
    "def get_filenames(path):\n",
    "    files = []\n",
    "    # r = root, d = directories, f = files\n",
    "    for r, d, f in os.walk(path+\"/source-tweet\"):\n",
    "        for file in f:\n",
    "            if '.json' in file:\n",
    "                files.append(os.path.join(r, file))\n",
    "    for r, d, f in os.walk(path+\"/reactions\"):\n",
    "        for file in f:\n",
    "            if '.json' in file:\n",
    "                files.append(os.path.join(r, file))\n",
    "    return files\n",
    "    \n",
    "def get_events(event_dir):\n",
    "    event_list = []\n",
    "    for event in sorted(os.listdir(event_dir)):\n",
    "        file_names = get_filenames(os.path.join(os.getcwd(), event_dir, event)) # Current path + event category + event...\n",
    "        current_event = []\n",
    "        for each in file_names:\n",
    "            current_event.append(get_tweet_text_from_json(each))\n",
    "        event_list.append(current_event)\n",
    "    \n",
    "    return event_list\n",
    "    \n",
    "#a list of events, and each event is a list of tweets (source tweet + reactions)    \n",
    "rumour_events = get_events(os.path.join(data_dir, \"rumours\"))\n",
    "nonrumour_events = get_events(os.path.join(data_dir, \"non-rumours\"))\n",
    "\n",
    "print(\"Number of rumour events =\", len(rumour_events))\n",
    "print(\"Number of non-rumour events =\", len(nonrumour_events))"
   ]
  },
  {
   "cell_type": "markdown",
   "metadata": {},
   "source": [
    "**For your testing:**"
   ]
  },
  {
   "cell_type": "code",
   "execution_count": 4,
   "metadata": {},
   "outputs": [],
   "source": [
    "assert(len(rumour_events) == 500)\n",
    "assert(len(nonrumour_events) == 1000)"
   ]
  },
  {
   "cell_type": "markdown",
   "metadata": {},
   "source": [
    "### Question 2 (1.0 mark)\n",
    "\n",
    "**Instructions**: Next we need to preprocess the collected tweets to create a bag-of-words representation. The preprocessing steps required here are: (1) tokenize each tweet into individual word tokens (using NLTK `TweetTokenizer`); and (2) remove stopwords (based on NLTK `stopwords`).\n",
    "\n",
    "**Task**: Complete the `preprocess_events(event)` function. The function takes **a list of events** as input, and returns **a list of preprocessed events**. Each preprocessed event should have a dictionary of words and frequencies.\n",
    "\n",
    "**Check**: Use the assertion statements in *\"For your testing\"* below for the expected output."
   ]
  },
  {
   "cell_type": "code",
   "execution_count": 5,
   "metadata": {},
   "outputs": [
    {
     "name": "stdout",
     "output_type": "stream",
     "text": [
      "Number of preprocessed rumour events = 500\n",
      "Number of preprocessed non-rumour events = 1000\n"
     ]
    }
   ],
   "source": [
    "import nltk\n",
    "from nltk.tokenize import TweetTokenizer\n",
    "from nltk.corpus import stopwords\n",
    "from collections import defaultdict\n",
    "from collections import Counter\n",
    "\n",
    "tt = TweetTokenizer()\n",
    "stopwords = set(stopwords.words('english'))\n",
    "\n",
    "def preprocess_events(events):\n",
    "    dict_list = []\n",
    "    for event in events:\n",
    "        tokens = []\n",
    "        for tweet in event:\n",
    "            tweetTokens = tt.tokenize(tweet)\n",
    "            tweetTokens = [word for word in tweetTokens if word.lower() not in stopwords]\n",
    "            tokens.append(tweetTokens)\n",
    "        eventTokens = [item for sublist in tokens for item in sublist]\n",
    "        dictionary = dict(Counter(eventTokens))\n",
    "        dict_list.append(dictionary)\n",
    "    return dict_list        \n",
    "\n",
    "preprocessed_rumour_events = preprocess_events(rumour_events)\n",
    "preprocessed_nonrumour_events = preprocess_events(nonrumour_events)\n",
    "\n",
    "print(\"Number of preprocessed rumour events =\", len(preprocessed_rumour_events))\n",
    "print(\"Number of preprocessed non-rumour events =\", len(preprocessed_nonrumour_events))"
   ]
  },
  {
   "cell_type": "markdown",
   "metadata": {},
   "source": [
    "**For your testing**:"
   ]
  },
  {
   "cell_type": "code",
   "execution_count": 6,
   "metadata": {},
   "outputs": [],
   "source": [
    "assert(len(preprocessed_rumour_events) == 500)\n",
    "assert(len(preprocessed_nonrumour_events) == 1000)"
   ]
  },
  {
   "cell_type": "markdown",
   "metadata": {},
   "source": [
    "**Instructions**: Hashtags (i.e. topic tags which start with #) pose an interesting tokenisation problem because they often include multiple words written without spaces or capitalization. Run the code below to collect all unique hashtags in the preprocessed data. **No implementation is needed.**\n",
    "\n"
   ]
  },
  {
   "cell_type": "code",
   "execution_count": 7,
   "metadata": {},
   "outputs": [
    {
     "name": "stdout",
     "output_type": "stream",
     "text": [
      "Number of hashtags = 1829\n"
     ]
    }
   ],
   "source": [
    "def get_all_hashtags(events):\n",
    "    hashtags = set([])\n",
    "    for event in events:\n",
    "        for word, frequency in event.items():\n",
    "            if word.startswith(\"#\"):\n",
    "                hashtags.add(word)\n",
    "    return hashtags\n",
    "\n",
    "hashtags = get_all_hashtags(preprocessed_rumour_events + preprocessed_nonrumour_events)\n",
    "print(\"Number of hashtags =\", len(hashtags))"
   ]
  },
  {
   "cell_type": "markdown",
   "metadata": {},
   "source": [
    "### Question 3 (2.0 mark)\n",
    "\n",
    "**Instructions**: Our task here to tokenize the hashtags, by implementing a reversed version of the MaxMatch algorithm discussed in class, where matching begins at the end of the hashtag and progresses backwards. NLTK has a list of words that you can use for matching, see starter code below. Be careful about efficiency with respect to doing word lookups. One extra challenge you have to deal with is that the provided list of words includes only lemmas: your MaxMatch algorithm should match inflected forms by converting them into lemmas using the NLTK lemmatizer before matching. When lemmatising a word, you also need to provide the part-of-speech tag of the word. You should use `nltk.tag.pos_tag` for doing part-of-speech tagging.\n",
    "\n",
    "Note that the list of words is incomplete, and, if you are unable to make any longer match, your code should default to matching a single letter. Create a new list of tokenized hashtags (this should be a list of lists of strings) and use slicing to print out the last 20 hashtags in the list.\n",
    "\n",
    "For example, given \"#speakup\", the algorithm should produce: \\[\"#\", \"speak\", \"up\"\\]. And note that you do not need to delete the hashtag symbol (\"#\") from the tokenised outputs.\n",
    "\n",
    "**Task**: Complete the `tokenize_hashtags(hashtags)` function by implementing a reversed MaxMatch algorithm. The function takes as input **a set of hashtags**, and returns **a dictionary** where key=\"hashtag\" and value=\"a list of word tokens\".\n",
    "\n",
    "**Check**: Use the assertion statements in *\"For your testing\"* below for the expected output."
   ]
  },
  {
   "cell_type": "code",
   "execution_count": 8,
   "metadata": {},
   "outputs": [
    {
     "name": "stdout",
     "output_type": "stream",
     "text": [
      "[('#Sickular', ['#', 'S', 'i', 'c', 'k', 'u', 'lar']), ('#Patriots', ['#', 'Pat', 'riot', 's']), ('#Chemtrails', ['#', 'C', 'hem', 'trail', 's']), ('#lies', ['#', 'li', 'es']), ('#AlpsCrash', ['#', 'Al', 'p', 's', 'C', 'rash']), ('#SydenySiege', ['#', 'S', 'y', 'deny', 'S', 'ie', 'ge']), ('#Sotlof', ['#', 'S', 'o', 't', 'lof']), ('#TeamHumanity', ['#', 'T', 'e', 'am', 'Huma', 'nit', 'y']), ('#stlouis', ['#', 'st', 'lo', 'u', 'is']), ('#TruthNorthStrong', ['#', 'T', 'ruth', 'N', 'or', 'th', 'S', 'tron', 'g']), ('#Waco', ['#', 'Waco']), ('#Germanwing', ['#', 'German', 'wing']), ('#Islamic_State', ['#', 'Islamic', '_', 'State']), ('#MoreMilk', ['#', 'M', 'ore', 'M', 'ilk']), ('#proud', ['#', 'p', 'roud']), ('#pigs', ['#', 'pig', 's']), ('#weak', ['#', 'weak']), ('#EzellFord', ['#', 'E', 'z', 'ell', 'For', 'd']), ('#youidjit', ['#', 'you', 'id', 'j', 'it']), ('#Kafirphobic', ['#', 'Kafir', 'phobic'])]\n"
     ]
    }
   ],
   "source": [
    "from nltk.corpus import wordnet\n",
    "\n",
    "lemmatizer = nltk.stem.wordnet.WordNetLemmatizer()\n",
    "words = set(nltk.corpus.words.words()) #a list of words provided by NLTK\n",
    "\n",
    "def word_postag(word):\n",
    "    tag = nltk.tag.pos_tag([word])[0][1][0]\n",
    "    tag_set = {\"J\": wordnet.ADJ, \"N\": wordnet.NOUN, \"V\": wordnet.VERB, \"R\": wordnet.ADV}\n",
    "    return tag_set.get(tag, wordnet.NOUN)\n",
    "\n",
    "def reverse_max_match(hashtag):\n",
    "    if not hashtag:\n",
    "        return []\n",
    "    max_match = \"\"\n",
    "    location = 0\n",
    "    for i in range(0, len(hashtag)):\n",
    "        first_word = (hashtag[-i:]) # Get last i characters...\n",
    "        tag = word_postag(first_word)\n",
    "        first_lemma = lemmatizer.lemmatize(first_word, pos = tag)\n",
    "        remainder = hashtag[0:len(hashtag) - i] # Get first (length - i) characters...\n",
    "        if first_word in words and len(first_word) > len(max_match):\n",
    "            max_match = first_word\n",
    "            location = i\n",
    "    \n",
    "    if len(max_match) > 0: # Match found!\n",
    "        remainder = hashtag[0:len(hashtag) - location]\n",
    "        return reverse_max_match(remainder) + [max_match]\n",
    "        \n",
    "\n",
    "    # No match found; make one-letter word...\n",
    "    first_word = hashtag[len(hashtag) - 1]\n",
    "    remainder = hashtag[0:len(hashtag) - 1]\n",
    "\n",
    "    return reverse_max_match(remainder) + [first_word]\n",
    "\n",
    "def tokenize_hashtags(hashtags):\n",
    "    hashtag_tokens = {}\n",
    "    for hashtag in hashtags:\n",
    "        tokens = reverse_max_match(hashtag)\n",
    "        hashtag_tokens[hashtag] = tokens\n",
    "    \n",
    "    return hashtag_tokens\n",
    "\n",
    "tokenized_hashtags = tokenize_hashtags(hashtags)\n",
    "\n",
    "print(list(tokenized_hashtags.items())[:20])"
   ]
  },
  {
   "cell_type": "markdown",
   "metadata": {},
   "source": [
    "**For your testing:**"
   ]
  },
  {
   "cell_type": "code",
   "execution_count": 9,
   "metadata": {},
   "outputs": [],
   "source": [
    "assert(len(tokenized_hashtags) == len(hashtags))"
   ]
  },
  {
   "cell_type": "markdown",
   "metadata": {},
   "source": [
    "### Question 4 (1.0 mark)\n",
    "\n",
    "**Instructions**: Now that we have the tokenized hashtags, we need to go back and update the bag-of-words representation for each event.\n",
    "\n",
    "**Task**: Complete the ``update_event_bow(events)`` function. The function takes **a list of preprocessed events**, and for each event, it looks for every hashtag it has and updates the bag-of-words dictionary with the tokenized hashtag tokens. Note: you do not need to delete the counts of the original hashtags when updating the bag-of-words (e.g., if a document has \"#speakup\":2 in its bag-of-words representation, you do not need to delete this hashtag and its counts)."
   ]
  },
  {
   "cell_type": "code",
   "execution_count": 10,
   "metadata": {},
   "outputs": [
    {
     "name": "stdout",
     "output_type": "stream",
     "text": [
      "Number of preprocessed rumour events = 500\n",
      "Number of preprocessed non-rumour events = 1000\n"
     ]
    }
   ],
   "source": [
    "def update_event_bow(events):\n",
    "    for event in events:\n",
    "        hashtags = [key for key, value in event.items() if key.startswith(\"#\")] # Get all hashtags from every dictionary...\n",
    "        for hashtag in hashtags:\n",
    "            tokens = tokenized_hashtags[hashtag]\n",
    "            dictionary = dict(Counter(tokens))\n",
    "            del dictionary['#']\n",
    "            event.update(dictionary)\n",
    "            \n",
    "update_event_bow(preprocessed_rumour_events)\n",
    "update_event_bow(preprocessed_nonrumour_events)\n",
    "\n",
    "print(\"Number of preprocessed rumour events =\", len(preprocessed_rumour_events))\n",
    "print(\"Number of preprocessed non-rumour events =\", len(preprocessed_nonrumour_events))"
   ]
  },
  {
   "cell_type": "markdown",
   "metadata": {},
   "source": [
    "# Text Classification (4 marks)"
   ]
  },
  {
   "cell_type": "markdown",
   "metadata": {},
   "source": [
    "### Question 5 (1.0 mark)\n",
    "\n",
    "**Instructions**: Here we are interested to do text classification, to predict, given a tweet and its reactions, whether it is a rumour or not. The task here is to create training, development and test partitions from the preprocessed events and convert the bag-of-words representation into feature vectors.\n",
    "\n",
    "**Task**: Using scikit-learn, create training, development and test partitions with a 60%/20%/20% ratio. Remember to preserve the ratio of rumour/non-rumour events for all your partitions. Next, turn the bag-of-words dictionary of each event into a feature vector, using scikit-learn `DictVectorizer`."
   ]
  },
  {
   "cell_type": "code",
   "execution_count": 11,
   "metadata": {},
   "outputs": [
    {
     "name": "stdout",
     "output_type": "stream",
     "text": [
      "Vocabulary size = 27931\n"
     ]
    }
   ],
   "source": [
    "from sklearn.feature_extraction import DictVectorizer\n",
    "import numpy as np\n",
    "from sklearn.model_selection import train_test_split\n",
    "\n",
    "vectorizer = DictVectorizer(sparse=False)\n",
    "\n",
    "# Truth labels\n",
    "y_rumour = np.zeros(500)\n",
    "y_non_rumour = np.ones(1000)\n",
    "\n",
    "y_rumour = y_rumour.astype(np.uint8)\n",
    "y_non_rumour = y_non_rumour.astype(np.uint8)\n",
    "\n",
    "# Split non-rumour data...\n",
    "X_train_nonrumour, X_test_nonrumour, y_train_nonrumour, y_test_nonrumour = train_test_split(preprocessed_nonrumour_events, y_non_rumour, test_size=0.2,shuffle = True, random_state=1)\n",
    "X_train_nonrumour, X_dev_nonrumour, y_train_nonrumour, y_dev_nonrumour = train_test_split(X_train_nonrumour, y_train_nonrumour, test_size=0.25,shuffle = True, random_state=1)\n",
    "\n",
    "# Split rumour data...\n",
    "X_train_rumour, X_test_rumour, y_train_rumour, y_test_rumour = train_test_split(preprocessed_rumour_events, y_rumour, test_size=0.2,shuffle = True, random_state=1)\n",
    "X_train_rumour, X_dev_rumour, y_train_rumour, y_dev_rumour = train_test_split(X_train_rumour, y_train_rumour, test_size=0.25,shuffle = True, random_state=1)\n",
    "\n",
    "# Consolidate events...\n",
    "X_train = X_train_nonrumour + X_train_rumour\n",
    "X_dev = X_dev_nonrumour + X_dev_rumour\n",
    "X_test = X_test_nonrumour + X_test_rumour\n",
    "\n",
    "# Concatenate the result datasets...\n",
    "y_train = np.concatenate((y_train_nonrumour, y_train_rumour))\n",
    "y_dev = np.concatenate((y_dev_nonrumour, y_dev_rumour))\n",
    "y_test = np.concatenate((y_test_nonrumour, y_test_rumour))\n",
    "\n",
    "# Vectorise event dictionaries...\n",
    "X_train_vect = vectorizer.fit_transform(X_train)\n",
    "X_dev_vect = vectorizer.transform(X_dev)\n",
    "X_test_vect = vectorizer.transform(X_test)\n",
    "\n",
    "print(\"Vocabulary size =\", len(vectorizer.vocabulary_))"
   ]
  },
  {
   "cell_type": "markdown",
   "metadata": {},
   "source": [
    "### Question 6 (2.0 mark)\n",
    "\n",
    "**Instructions**: Now, let's build some classifiers. Here, we'll be comparing Naive Bayes and Logistic Regression. For each, you need to first find a good value for their main regularisation (hyper)parameters, which you should identify using the scikit-learn docs or other resources. Use the development set you created for this tuning process; do **not** use cross-validation in the training set, or involve the test set in any way. You don't need to show all your work, but you do need to print out the accuracy with enough different settings to strongly suggest you have found an optimal or near-optimal choice. We should not need to look at your code to interpret the output.\n",
    "\n",
    "**Task**: Implement two text classifiers: Naive Bayes and Logistic Regression. Tune the hyper-parameters of these classifiers and print the task performance for different hyper-parameter settings."
   ]
  },
  {
   "cell_type": "code",
   "execution_count": 12,
   "metadata": {},
   "outputs": [
    {
     "name": "stdout",
     "output_type": "stream",
     "text": [
      "Accuracy for Alpha-value: 0.1 with fit_prior True is 0.83.\n",
      "Accuracy for Alpha-value: 0.2 with fit_prior True is 0.82.\n",
      "Accuracy for Alpha-value: 0.3 with fit_prior True is 0.813.\n",
      "Accuracy for Alpha-value: 0.4 with fit_prior True is 0.81.\n",
      "Accuracy for Alpha-value: 0.5 with fit_prior True is 0.817.\n",
      "Accuracy for Alpha-value: 0.6 with fit_prior True is 0.817.\n",
      "Accuracy for Alpha-value: 0.7 with fit_prior True is 0.82.\n",
      "Accuracy for Alpha-value: 0.8 with fit_prior True is 0.82.\n",
      "Accuracy for Alpha-value: 0.9 with fit_prior True is 0.82.\n",
      "Accuracy for Alpha-value: 1.0 with fit_prior True is 0.813.\n",
      "Accuracy for Alpha-value: 1.1 with fit_prior True is 0.82.\n",
      "Accuracy for Alpha-value: 1.2 with fit_prior True is 0.817.\n",
      "Accuracy for Alpha-value: 1.3 with fit_prior True is 0.813.\n",
      "Accuracy for Alpha-value: 1.4 with fit_prior True is 0.82.\n",
      "Accuracy for Alpha-value: 1.5 with fit_prior True is 0.82.\n",
      "Accuracy for Alpha-value: 1.6 with fit_prior True is 0.82.\n",
      "Accuracy for Alpha-value: 1.7 with fit_prior True is 0.82.\n",
      "Accuracy for Alpha-value: 1.8 with fit_prior True is 0.823.\n",
      "Accuracy for Alpha-value: 1.9 with fit_prior True is 0.813.\n",
      "Accuracy for Alpha-value: 2.0 with fit_prior True is 0.82.\n",
      "Accuracy for Alpha-value: 2.1 with fit_prior True is 0.823.\n",
      "Accuracy for Alpha-value: 2.2 with fit_prior True is 0.817.\n",
      "Accuracy for Alpha-value: 2.3 with fit_prior True is 0.817.\n",
      "Accuracy for Alpha-value: 2.4 with fit_prior True is 0.81.\n",
      "Accuracy for Alpha-value: 2.5 with fit_prior True is 0.807.\n",
      "Accuracy for Alpha-value: 2.6 with fit_prior True is 0.803.\n",
      "Accuracy for Alpha-value: 2.7 with fit_prior True is 0.803.\n",
      "Accuracy for Alpha-value: 2.8 with fit_prior True is 0.8.\n",
      "Accuracy for Alpha-value: 2.9 with fit_prior True is 0.797.\n",
      "--------------------------\n",
      "Accuracy for Alpha-value: 0.1 with fit_prior False is 0.83.\n",
      "Accuracy for Alpha-value: 0.2 with fit_prior False is 0.82.\n",
      "Accuracy for Alpha-value: 0.3 with fit_prior False is 0.813.\n",
      "Accuracy for Alpha-value: 0.4 with fit_prior False is 0.81.\n",
      "Accuracy for Alpha-value: 0.5 with fit_prior False is 0.817.\n",
      "Accuracy for Alpha-value: 0.6 with fit_prior False is 0.817.\n",
      "Accuracy for Alpha-value: 0.7 with fit_prior False is 0.82.\n",
      "Accuracy for Alpha-value: 0.8 with fit_prior False is 0.82.\n",
      "Accuracy for Alpha-value: 0.9 with fit_prior False is 0.82.\n",
      "Accuracy for Alpha-value: 1.0 with fit_prior False is 0.813.\n",
      "Accuracy for Alpha-value: 1.1 with fit_prior False is 0.82.\n",
      "Accuracy for Alpha-value: 1.2 with fit_prior False is 0.817.\n",
      "Accuracy for Alpha-value: 1.3 with fit_prior False is 0.813.\n",
      "Accuracy for Alpha-value: 1.4 with fit_prior False is 0.82.\n",
      "Accuracy for Alpha-value: 1.5 with fit_prior False is 0.82.\n",
      "Accuracy for Alpha-value: 1.6 with fit_prior False is 0.82.\n",
      "Accuracy for Alpha-value: 1.7 with fit_prior False is 0.82.\n",
      "Accuracy for Alpha-value: 1.8 with fit_prior False is 0.823.\n",
      "Accuracy for Alpha-value: 1.9 with fit_prior False is 0.813.\n",
      "Accuracy for Alpha-value: 2.0 with fit_prior False is 0.82.\n",
      "Accuracy for Alpha-value: 2.1 with fit_prior False is 0.823.\n",
      "Accuracy for Alpha-value: 2.2 with fit_prior False is 0.817.\n",
      "Accuracy for Alpha-value: 2.3 with fit_prior False is 0.817.\n",
      "Accuracy for Alpha-value: 2.4 with fit_prior False is 0.81.\n",
      "Accuracy for Alpha-value: 2.5 with fit_prior False is 0.807.\n",
      "Accuracy for Alpha-value: 2.6 with fit_prior False is 0.803.\n",
      "Accuracy for Alpha-value: 2.7 with fit_prior False is 0.803.\n",
      "Accuracy for Alpha-value: 2.8 with fit_prior False is 0.8.\n",
      "Accuracy for Alpha-value: 2.9 with fit_prior False is 0.797.\n",
      "--------------------------\n",
      "Accuracy for C-value: 0.0 with solver type newton-cg is 0.673.\n",
      "Accuracy for C-value: 0.001 with solver type newton-cg is 0.71.\n",
      "Accuracy for C-value: 0.01 with solver type newton-cg is 0.803.\n",
      "Accuracy for C-value: 0.1 with solver type newton-cg is 0.817.\n",
      "Accuracy for C-value: 1 with solver type newton-cg is 0.827.\n",
      "Accuracy for C-value: 10 with solver type newton-cg is 0.827.\n",
      "Accuracy for C-value: 100 with solver type newton-cg is 0.813.\n",
      "Accuracy for C-value: 1000 with solver type newton-cg is 0.813.\n",
      "--------------------------\n",
      "Accuracy for C-value: 0.0 with solver type liblinear is 0.69.\n",
      "Accuracy for C-value: 0.001 with solver type liblinear is 0.743.\n",
      "Accuracy for C-value: 0.01 with solver type liblinear is 0.803.\n",
      "Accuracy for C-value: 0.1 with solver type liblinear is 0.827.\n",
      "Accuracy for C-value: 1 with solver type liblinear is 0.833.\n",
      "Accuracy for C-value: 10 with solver type liblinear is 0.833.\n",
      "Accuracy for C-value: 100 with solver type liblinear is 0.827.\n",
      "Accuracy for C-value: 1000 with solver type liblinear is 0.823.\n",
      "--------------------------\n"
     ]
    }
   ],
   "source": [
    "from sklearn.naive_bayes import MultinomialNB\n",
    "from sklearn.linear_model import LogisticRegression\n",
    "from sklearn.metrics import accuracy_score\n",
    "\n",
    "# Naive Bayes Multinomial NB's hyperparameter is alpha value of the model...\n",
    "fit_options = [\"True\", \"False\"]\n",
    "for choice in fit_options:\n",
    "    for each in np.arange(0.1, 3.0, 0.1):\n",
    "        clf_multinomial = MultinomialNB(alpha = each, fit_prior = choice)\n",
    "        clf_multinomial.fit(X_train_vect, y_train)\n",
    "        y_pred = clf_multinomial.predict(X_dev_vect)\n",
    "        print(\"Accuracy for Alpha-value: \" + str(round(each, 3)) + \" with fit_prior \" + choice + \" is \"+ str(round(accuracy_score(y_dev, y_pred), 3)) + \".\")\n",
    "    print(\"--------------------------\")\n",
    "\n",
    "# Linear Logistic Regression's hyperparameters are the solver type & C value (inverse of regularisation strength!)\n",
    "C = [0.0001, 0.001, 0.01, 0.1, 1, 10, 100, 1000]\n",
    "\n",
    "# Avoiding 'lbfgs' becuase of the convergance warnings and ‘sag’, ‘saga’ because of our data (small; 900 records!)\n",
    "solvers = [\"newton-cg\", \"liblinear\"] \n",
    "\n",
    "for s_type in solvers:\n",
    "    for each in C:\n",
    "        clf_regression = LogisticRegression(random_state=0, solver = s_type, C=each)\n",
    "        clf_regression.fit(X_train_vect, y_train)\n",
    "        y_pred = clf_regression.predict(X_dev_vect)\n",
    "        print(\"Accuracy for C-value: \"+ str(round(each, 3)) + \" with solver type \" + s_type + \" is \"+ str(round(accuracy_score(y_dev, y_pred), 3)) + \".\")\n",
    "    print(\"--------------------------\")"
   ]
  },
  {
   "cell_type": "markdown",
   "metadata": {},
   "source": [
    "### Question 7 (1.0 mark)\n",
    "\n",
    "**Instructions**: Using the best settings you have found, compare the two classifiers based on performance in the test set. Print out both accuracy and macro-averaged F-score for each classifier. Be sure to label your output.\n",
    "\n",
    "**Task**: Compute test performance in terms of accuracy and macro-averaged F-score for both Naive Bayes and Logistic Regression, using optimal hyper-parameter settings."
   ]
  },
  {
   "cell_type": "code",
   "execution_count": 17,
   "metadata": {},
   "outputs": [
    {
     "name": "stdout",
     "output_type": "stream",
     "text": [
      "Multinomial Naive Bayes:\n",
      "Accuracy for Alpha-value 0.1 with fit_prior False is 0.823.\n",
      "F-score: 0.804\n",
      "\n",
      "\n",
      "Linear Logisitic Regression:\n",
      "Accuracy for C-value 10  with solver type liblinear is 0.847.\n",
      "F-score: 0.815\n"
     ]
    }
   ],
   "source": [
    "from sklearn.metrics import f1_score\n",
    "\n",
    "# Optimal alpha = 0.2 & fit_prior = false...\n",
    "clf_multinomial = MultinomialNB(alpha = 0.2, fit_prior = False)\n",
    "clf_multinomial.fit(X_train_vect, y_train)\n",
    "y_pred = clf_multinomial.predict(X_test_vect)\n",
    "print(\"Multinomial Naive Bayes:\")\n",
    "print(\"Accuracy for Alpha-value 0.1 with fit_prior False is \" + str(round(accuracy_score(y_dev, y_pred), 3)) + \".\")\n",
    "print(\"F-score: \" + str(round(f1_score(y_test, y_pred, average='macro'), 3)))\n",
    "\n",
    "\n",
    "# Optimum solver is liblinear (which is expected given the size of our dataset) & C = 10...\n",
    "clf_regression = LogisticRegression(random_state = 0, solver = 'liblinear', C = 10)\n",
    "clf_regression.fit(X_train_vect, y_train)\n",
    "y_pred = clf_regression.predict(X_test_vect)\n",
    "print(\"\\n\\nLinear Logisitic Regression:\")\n",
    "print(\"Accuracy for C-value 10  with solver type liblinear is \"+ str(round(accuracy_score(y_dev, y_pred), 3)) + \".\")\n",
    "print(\"F-score: \" + str(round(f1_score(y_test, y_pred, average='macro'), 3)))"
   ]
  },
  {
   "cell_type": "code",
   "execution_count": null,
   "metadata": {},
   "outputs": [],
   "source": []
  }
 ],
 "metadata": {
  "kernelspec": {
   "display_name": "Python 3",
   "language": "python",
   "name": "python3"
  },
  "language_info": {
   "codemirror_mode": {
    "name": "ipython",
    "version": 3
   },
   "file_extension": ".py",
   "mimetype": "text/x-python",
   "name": "python",
   "nbconvert_exporter": "python",
   "pygments_lexer": "ipython3",
   "version": "3.7.6"
  }
 },
 "nbformat": 4,
 "nbformat_minor": 2
}
